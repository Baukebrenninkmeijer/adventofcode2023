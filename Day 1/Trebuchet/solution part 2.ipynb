{
 "cells": [
  {
   "cell_type": "code",
   "execution_count": 3,
   "metadata": {},
   "outputs": [],
   "source": [
    "from pathlib import Path"
   ]
  },
  {
   "cell_type": "code",
   "execution_count": 4,
   "metadata": {},
   "outputs": [
    {
     "data": {
      "text/plain": [
       "['76xkqjzqtwonfour', 'sixthree8sixjxjqsjgjgp']"
      ]
     },
     "execution_count": 4,
     "metadata": {},
     "output_type": "execute_result"
    }
   ],
   "source": [
    "data = Path('input.txt').read_text().split('\\n')\n",
    "data[:2]"
   ]
  },
  {
   "cell_type": "code",
   "execution_count": 62,
   "metadata": {},
   "outputs": [],
   "source": [
    "import pandas as pd\n",
    "df = pd.DataFrame({'txt': data})"
   ]
  },
  {
   "cell_type": "code",
   "execution_count": 63,
   "metadata": {},
   "outputs": [],
   "source": [
    "df['length'] = df.txt.str.len()"
   ]
  },
  {
   "cell_type": "code",
   "execution_count": 64,
   "metadata": {},
   "outputs": [
    {
     "data": {
      "text/plain": [
       "['33', 'c5', 'x8', '7n', 'l4']"
      ]
     },
     "execution_count": 64,
     "metadata": {},
     "output_type": "execute_result"
    }
   ],
   "source": [
    "df.loc[df.length == 2].txt.tolist()"
   ]
  },
  {
   "cell_type": "code",
   "execution_count": 65,
   "metadata": {},
   "outputs": [],
   "source": [
    "mapping = {'one': '1', 'two': '2', 'three': '3', 'four': '4', 'five': '5', 'six': '6', 'seven': '7', 'eight': '8', 'nine': '9'}"
   ]
  },
  {
   "cell_type": "code",
   "execution_count": 66,
   "metadata": {},
   "outputs": [],
   "source": [
    "def replace_with_mapping(x: str, mapping: dict) -> str:\n",
    "    out = ''\n",
    "    for i, _ in enumerate(x):\n",
    "        # print(x[i+offset:], offset, out)\n",
    "        matched = False\n",
    "        for num_in, num_out in mapping.items():\n",
    "            if x[i:].startswith(num_in):\n",
    "                out += num_out\n",
    "                matched = True\n",
    "                break\n",
    "        if i >= len(x):\n",
    "            return out\n",
    "        if not matched:\n",
    "            out += x[i]\n",
    "    return out"
   ]
  },
  {
   "cell_type": "code",
   "execution_count": 67,
   "metadata": {},
   "outputs": [],
   "source": [
    "df['mapped_txt'] = df.txt.apply(replace_with_mapping, mapping=mapping)"
   ]
  },
  {
   "cell_type": "code",
   "execution_count": 68,
   "metadata": {},
   "outputs": [
    {
     "data": {
      "text/plain": [
       "'z1n8ight234'"
      ]
     },
     "execution_count": 68,
     "metadata": {},
     "output_type": "execute_result"
    }
   ],
   "source": [
    "replace_with_mapping('zoneight234', mapping)"
   ]
  },
  {
   "cell_type": "code",
   "execution_count": 69,
   "metadata": {},
   "outputs": [
    {
     "data": {
      "text/plain": [
       "['33', 'c5', 'x8', '7n', 'l4']"
      ]
     },
     "execution_count": 69,
     "metadata": {},
     "output_type": "execute_result"
    }
   ],
   "source": [
    "[replace_with_mapping(x, mapping) for x in ['33', 'c5', 'x8', '7n', 'l4']]"
   ]
  },
  {
   "cell_type": "code",
   "execution_count": 70,
   "metadata": {},
   "outputs": [
    {
     "data": {
      "text/plain": [
       "[('76xkqjzqtwonfour', '76xkqjzq2won4our'),\n",
       " ('sixthree8sixjxjqsjgjgp', '6ix3hree86ixjxjqsjgjgp'),\n",
       " ('38bgcczgtninefivefive', '38bgcczgt9ine5ive5ive'),\n",
       " ('sixthree4eight', '6ix3hree48ight'),\n",
       " ('nhp3zdc', 'nhp3zdc'),\n",
       " ('279four', '2794our'),\n",
       " ('vzxf4tqrljgxmthreejcr', 'vzxf4tqrljgxm3hreejcr'),\n",
       " ('bbm4twoeight8oneone3one', 'bbm42wo8ight81ne1ne31ne'),\n",
       " ('nineninesix6nine', '9ine9ine6ix69ine'),\n",
       " ('fourseven5seveneightsvtkcjdrfour', '4our7even57even8ightsvtkcjdr4our')]"
      ]
     },
     "execution_count": 70,
     "metadata": {},
     "output_type": "execute_result"
    }
   ],
   "source": [
    "from typing import Any\n",
    "\n",
    "def preprocess_data(data) -> list[Any]:\n",
    "    updated_data = [replace_with_mapping(i, mapping) for i in data]\n",
    "    return updated_data\n",
    "\n",
    "updated_data = preprocess_data(data)\n",
    "list(zip(data[:10], updated_data[:10]))"
   ]
  },
  {
   "cell_type": "code",
   "execution_count": 71,
   "metadata": {},
   "outputs": [
    {
     "name": "stdout",
     "output_type": "stream",
     "text": [
      "False\n",
      "False\n",
      "False\n",
      "False\n",
      "True\n",
      "False\n",
      "True\n",
      "False\n"
     ]
    }
   ],
   "source": [
    "print(replace_with_mapping('zoneight234', mapping) == 'z1ight234')\n",
    "print(replace_with_mapping('zeightwone234', mapping) == 'z8w1234')\n",
    "print(replace_with_mapping('one', mapping) == '1')\n",
    "print(replace_with_mapping('oneoneoneoneone', mapping) == '11111')\n",
    "print(replace_with_mapping('11111111', mapping) == '11111111')\n",
    "print(replace_with_mapping('twonetwonetwone', mapping) == '2ne2ne2ne')\n",
    "print(replace_with_mapping('eigh', mapping) == 'eigh')\n",
    "print(replace_with_mapping('1one', mapping) == '11')\n"
   ]
  },
  {
   "cell_type": "markdown",
   "metadata": {},
   "source": [
    "## Oneliner solution"
   ]
  },
  {
   "cell_type": "code",
   "execution_count": 72,
   "metadata": {},
   "outputs": [
    {
     "data": {
      "text/plain": [
       "53348"
      ]
     },
     "execution_count": 72,
     "metadata": {},
     "output_type": "execute_result"
    }
   ],
   "source": [
    "def first_last_digit_single(txt: str) -> int:\n",
    "    digits = [j for j in txt if j.isdigit()]\n",
    "    result = int(digits[0] + digits[-1])\n",
    "    return result\n",
    "\n",
    "def first_last_digit_txt(data) -> list[int]:\n",
    "    res = []\n",
    "    for i in data:\n",
    "        result = first_last_digit_single(i)\n",
    "        res.append(result)\n",
    "    # answer = [int(x[0] + x[-1]) for x in [[j for j in i if j.isnumeric()] for i in data]]\n",
    "    return res\n",
    "\n",
    "answer = first_last_digit_txt(updated_data)\n",
    "sum(answer)"
   ]
  },
  {
   "cell_type": "code",
   "execution_count": 78,
   "metadata": {},
   "outputs": [
    {
     "data": {
      "text/plain": [
       "53348"
      ]
     },
     "execution_count": 78,
     "metadata": {},
     "output_type": "execute_result"
    }
   ],
   "source": [
    "df['digits'] = df.mapped_txt.apply(first_last_digit_single)\n",
    "df.digits.sum()"
   ]
  },
  {
   "cell_type": "code",
   "execution_count": 75,
   "metadata": {},
   "outputs": [
    {
     "data": {
      "text/plain": [
       "53348"
      ]
     },
     "execution_count": 75,
     "metadata": {},
     "output_type": "execute_result"
    }
   ],
   "source": [
    "df.digits.sum()"
   ]
  },
  {
   "cell_type": "code",
   "execution_count": 139,
   "metadata": {},
   "outputs": [
    {
     "name": "stdout",
     "output_type": "stream",
     "text": [
      "[('two1nine', '219'), ('eightwothree', '8wo3'), ('abcone2threexyz', 'abc123xyz'), ('xtwone3four', 'x2ne34'), ('4nineeightseven2', '49872'), ('zoneight234', 'z1ight234'), ('7pqrstsixteen', '7pqrst6teen')]\n",
      "[29, 83, 13, 24, 42, 14, 76]\n",
      "True\n",
      "True\n"
     ]
    },
    {
     "data": {
      "text/plain": [
       "281"
      ]
     },
     "execution_count": 139,
     "metadata": {},
     "output_type": "execute_result"
    }
   ],
   "source": [
    "test_data = \"\"\"two1nine\n",
    "eightwothree\n",
    "abcone2threexyz\n",
    "xtwone3four\n",
    "4nineeightseven2\n",
    "zoneight234\n",
    "7pqrstsixteen\"\"\".split('\\n')\n",
    "expected_output = [29, 83, 13, 24, 42, 14, 76]\n",
    "expected_result = 281\n",
    "\n",
    "clean_test_data = preprocess_data(test_data)\n",
    "print(list(zip(test_data, clean_test_data)))\n",
    "test_answer = first_last_digit_txt(clean_test_data)\n",
    "print(test_answer)\n",
    "print(sum(test_answer) == expected_result)\n",
    "print(expected_output == test_answer)\n",
    "sum(test_answer)"
   ]
  }
 ],
 "metadata": {
  "kernelspec": {
   "display_name": "p310",
   "language": "python",
   "name": "python3"
  },
  "language_info": {
   "codemirror_mode": {
    "name": "ipython",
    "version": 3
   },
   "file_extension": ".py",
   "mimetype": "text/x-python",
   "name": "python",
   "nbconvert_exporter": "python",
   "pygments_lexer": "ipython3",
   "version": "3.10.0"
  }
 },
 "nbformat": 4,
 "nbformat_minor": 2
}
